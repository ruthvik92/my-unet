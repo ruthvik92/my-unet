{
 "cells": [
  {
   "cell_type": "markdown",
   "metadata": {},
   "source": [
    "# Imports"
   ]
  },
  {
   "cell_type": "code",
   "execution_count": 132,
   "metadata": {},
   "outputs": [
    {
     "name": "stderr",
     "output_type": "stream",
     "text": [
      "Matplotlib created a temporary config/cache directory at /tmp/matplotlib-mtv3jcwm because the default path (/home/ruthvik/.config/matplotlib) is not a writable directory; it is highly recommended to set the MPLCONFIGDIR environment variable to a writable directory, in particular to speed up the import of Matplotlib and to better support multiprocessing.\n"
     ]
    }
   ],
   "source": [
    "import numpy as np\n",
    "import os\n",
    "os.environ[\"CUDA_VISIBLE_DEVICES\"] = '-1'\n",
    "import torch\n",
    "from copy import deepcopy\n",
    "from torch.nn import functional as F\n",
    "import matplotlib.pyplot as plt"
   ]
  },
  {
   "cell_type": "markdown",
   "metadata": {},
   "source": [
    "# Make a sample \"GT mask\"\n",
    "```\n",
    " [[1. 1. 1. 1. 1. 1. 1.]\n",
    "  [1. 0. 0. 1. 0. 0. 1.]\n",
    "  [1. 0. 0. 1. 0. 0. 1.]\n",
    "  [1. 1. 1. 1. 1. 1. 1.]\n",
    "  [1. 0. 0. 1. 0. 0. 1.]\n",
    "  [1. 0. 0. 1. 0. 0. 1.]\n",
    "  [1. 1. 1. 1. 1. 1. 1.]]\n",
    " ```"
   ]
  },
  {
   "cell_type": "code",
   "execution_count": 185,
   "metadata": {},
   "outputs": [
    {
     "name": "stdout",
     "output_type": "stream",
     "text": [
      "[[1. 1. 1. 1. 1. 1. 1.]\n",
      " [1. 0. 0. 1. 0. 0. 1.]\n",
      " [1. 0. 0. 0. 0. 0. 1.]\n",
      " [1. 0. 0. 0. 0. 0. 1.]\n",
      " [1. 0. 0. 0. 0. 0. 1.]\n",
      " [1. 0. 0. 1. 0. 0. 1.]\n",
      " [1. 1. 1. 1. 1. 1. 1.]]\n"
     ]
    }
   ],
   "source": [
    "def get_gt_mask():\n",
    "    gt = np.zeros(shape=(7,7))\n",
    "    gt[:,0:2] = 1\n",
    "    gt[0:2,:] = 1\n",
    "    gt[:,-2:] = 1\n",
    "    gt[-2:,:] = 1\n",
    "    gt[2:5, 1:6] = 0\n",
    "    #gt[:,3] = 1\n",
    "    gt[1,1:3] = 0\n",
    "    gt[1,4:6] = 0\n",
    "    gt[5,1:3] = 0\n",
    "    gt[5,4:6] = 0\n",
    "    #gt[3,:] = 1\n",
    "\n",
    "    return gt\n",
    "\n",
    "gt = get_gt_mask()\n",
    "print(gt)"
   ]
  },
  {
   "cell_type": "markdown",
   "metadata": {},
   "source": [
    "# Make a bunch of \"predicted\" masks"
   ]
  },
  {
   "cell_type": "code",
   "execution_count": 186,
   "metadata": {},
   "outputs": [
    {
     "name": "stdout",
     "output_type": "stream",
     "text": [
      "[0 0 0 0 0 0 0 1 1 1 2 2 3 3 4 4 5 5 5 6 6 6 6 6 6 6]\n",
      "[0 1 2 3 4 5 6 0 3 6 0 6 0 6 0 6 0 3 6 0 1 2 3 4 5 6]\n"
     ]
    }
   ],
   "source": [
    "predicted_masks = []\n",
    "row, col = np.where(gt>=1)\n",
    "print(row)\n",
    "print(col)\n",
    "new_gt = deepcopy(gt)\n",
    "for i in range(len(row)):\n",
    "    new_gt = deepcopy(new_gt)\n",
    "    new_gt[row[i], col[i]] = 0\n",
    "    predicted_masks.append(new_gt)\n",
    "predicted_masks.append(np.logical_not(gt).astype(np.float32))  ##completely oppsite case"
   ]
  },
  {
   "cell_type": "markdown",
   "metadata": {},
   "source": [
    "# Define dice loss\n",
    "* [See](https://arxiv.org/pdf/2007.08921.pdf) Equation 3"
   ]
  },
  {
   "cell_type": "markdown",
   "metadata": {},
   "source": [
    "![alt text](dice_loss.png \"Dice Loss\")"
   ]
  },
  {
   "cell_type": "code",
   "execution_count": 187,
   "metadata": {},
   "outputs": [],
   "source": [
    "eps = 1.0#1e-9\n",
    "def dice_loss(gt_mask, pred_mask):\n",
    "    num = 2*(gt_mask*pred_mask).sum() + eps\n",
    "    den = pred_mask.sum() + gt_mask.sum() + eps\n",
    "    D = 1 - (num / den)\n",
    "    return D"
   ]
  },
  {
   "cell_type": "code",
   "execution_count": 188,
   "metadata": {},
   "outputs": [],
   "source": [
    "dice_losses = list(map(dice_loss, [gt]*len(predicted_masks), predicted_masks))"
   ]
  },
  {
   "cell_type": "markdown",
   "metadata": {},
   "source": [
    "# Define bce loss"
   ]
  },
  {
   "cell_type": "code",
   "execution_count": 189,
   "metadata": {},
   "outputs": [],
   "source": [
    "def bce_loss(gt_mask, pred_mask):\n",
    "    #print(gt_mask)\n",
    "    #print(pred_mask)\n",
    "    bce_loss = F.binary_cross_entropy_with_logits(torch.Tensor(pred_mask), torch.Tensor(gt_mask))\n",
    "    return float(bce_loss.numpy())"
   ]
  },
  {
   "cell_type": "code",
   "execution_count": 190,
   "metadata": {},
   "outputs": [],
   "source": [
    "bce_losses = list(map(bce_loss, [gt]*len(predicted_masks), predicted_masks))"
   ]
  },
  {
   "cell_type": "code",
   "execution_count": 191,
   "metadata": {},
   "outputs": [],
   "source": [
    "lmbda = 1.0\n",
    "combined_losses = np.array(bce_losses) + lmbda*np.array(dice_losses)\n",
    "combined_losses = combined_losses.tolist()"
   ]
  },
  {
   "cell_type": "code",
   "execution_count": 192,
   "metadata": {},
   "outputs": [
    {
     "data": {
      "image/png": "[encoded data removed]",
      "text/plain": [
       "<Figure size 432x288 with 1 Axes>"
      ]
     },
     "metadata": {
      "needs_background": "light"
     },
     "output_type": "display_data"
    }
   ],
   "source": [
    "fig, ax = plt.subplots(1,1)\n",
    "ax.plot(range(len(dice_losses)), dice_losses, label='dice_losses', color='green', linewidth=3)\n",
    "ax.plot(range(len(bce_losses)), bce_losses, label='bce_losses', color='red', linewidth=3)\n",
    "ax.plot(range(len(bce_losses)), combined_losses, label='bce + dice', color='blue', linewidth=3)\n",
    "ax.set_ylabel('Loss')\n",
    "ax.set_xlabel('Predicted masks in increasing mismatch order')\n",
    "ax.set_yticks(np.array(list(range(0,200,10)))/100.0)\n",
    "ax.legend()\n",
    "ax.grid()"
   ]
  },
  {
   "cell_type": "code",
   "execution_count": null,
   "metadata": {},
   "outputs": [],
   "source": []
  }
 ],
 "metadata": {
  "kernelspec": {
   "display_name": "pytorch_1121_cu113_unet",
   "language": "python",
   "name": "pytorch_1121_cu113_unet"
  },
  "language_info": {
   "codemirror_mode": {
    "name": "ipython",
    "version": 3
   },
   "file_extension": ".py",
   "mimetype": "text/x-python",
   "name": "python",
   "nbconvert_exporter": "python",
   "pygments_lexer": "ipython3",
   "version": "3.10.6"
  },
  "toc": {
   "base_numbering": 1,
   "nav_menu": {},
   "number_sections": true,
   "sideBar": true,
   "skip_h1_title": false,
   "title_cell": "Table of Contents",
   "title_sidebar": "Contents",
   "toc_cell": false,
   "toc_position": {},
   "toc_section_display": true,
   "toc_window_display": false
  },
  "varInspector": {
   "cols": {
    "lenName": 16,
    "lenType": 16,
    "lenVar": 40
   },
   "kernels_config": {
    "python": {
     "delete_cmd_postfix": "",
     "delete_cmd_prefix": "del ",
     "library": "var_list.py",
     "varRefreshCmd": "print(var_dic_list())"
    },
    "r": {
     "delete_cmd_postfix": ") ",
     "delete_cmd_prefix": "rm(",
     "library": "var_list.r",
     "varRefreshCmd": "cat(var_dic_list()) "
    }
   },
   "types_to_exclude": [
    "module",
    "function",
    "builtin_function_or_method",
    "instance",
    "_Feature"
   ],
   "window_display": false
  }
 },
 "nbformat": 4,
 "nbformat_minor": 2
}
